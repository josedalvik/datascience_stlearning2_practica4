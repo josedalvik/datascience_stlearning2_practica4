{
 "cells": [
  {
   "cell_type": "markdown",
   "metadata": {
    "id": "-xJPhEzbqWp9"
   },
   "source": [
    "Igorando el sesgo/bias y asumiendo activación sigmoidal implementar la siguiente red neuronal en NumPy\n",
    "\n",
    "https://gadictos.com/neural-network-pt1/\n",
    "<img src=\"https://gadictos.com/wp-content/uploads/2019/05/bp1.png\">"
   ]
  },
  {
   "cell_type": "code",
   "execution_count": 1,
   "metadata": {
    "executionInfo": {
     "elapsed": 5,
     "status": "ok",
     "timestamp": 1628129715157,
     "user": {
      "displayName": "Luis Fernando Leal Hernandez",
      "photoUrl": "",
      "userId": "08643725771405988586"
     },
     "user_tz": 300
    },
    "id": "Q1yAwOc4qPLs"
   },
   "outputs": [],
   "source": [
    "import numpy as np"
   ]
  },
  {
   "cell_type": "code",
   "execution_count": 2,
   "metadata": {
    "colab": {
     "base_uri": "https://localhost:8080/"
    },
    "executionInfo": {
     "elapsed": 184,
     "status": "ok",
     "timestamp": 1628129750190,
     "user": {
      "displayName": "Luis Fernando Leal Hernandez",
      "photoUrl": "",
      "userId": "08643725771405988586"
     },
     "user_tz": 300
    },
    "id": "hir96PwIqZOB",
    "outputId": "e8ec26e5-e7bb-499d-a388-b99121c61bb0"
   },
   "outputs": [
    {
     "data": {
      "text/plain": [
       "array([0.88079708, 0.95257413, 0.98201379])"
      ]
     },
     "execution_count": 2,
     "metadata": {},
     "output_type": "execute_result"
    }
   ],
   "source": [
    "def sigmoid(X):\n",
    "  return 1/(1+np.exp(-X))\n",
    "\n",
    "sigmoid(np.array([2,3,4]))"
   ]
  },
  {
   "cell_type": "code",
   "execution_count": 3,
   "metadata": {
    "executionInfo": {
     "elapsed": 172,
     "status": "ok",
     "timestamp": 1628129900748,
     "user": {
      "displayName": "Luis Fernando Leal Hernandez",
      "photoUrl": "",
      "userId": "08643725771405988586"
     },
     "user_tz": 300
    },
    "id": "O7GP_nCsq1PK"
   },
   "outputs": [],
   "source": [
    "Wc1 = np.array([\n",
    "   [0.9,0.3,0.2],\n",
    "   [0.8,0.5,0.4],\n",
    "   [0.1,0.6,0.7]\n",
    "])"
   ]
  },
  {
   "cell_type": "code",
   "execution_count": 4,
   "metadata": {
    "executionInfo": {
     "elapsed": 183,
     "status": "ok",
     "timestamp": 1628129953030,
     "user": {
      "displayName": "Luis Fernando Leal Hernandez",
      "photoUrl": "",
      "userId": "08643725771405988586"
     },
     "user_tz": 300
    },
    "id": "dvgUY50uruJm"
   },
   "outputs": [],
   "source": [
    "Wc2 = np.array([0.3,0.5,0.9])"
   ]
  },
  {
   "cell_type": "code",
   "execution_count": 5,
   "metadata": {
    "executionInfo": {
     "elapsed": 155,
     "status": "ok",
     "timestamp": 1628130022142,
     "user": {
      "displayName": "Luis Fernando Leal Hernandez",
      "photoUrl": "",
      "userId": "08643725771405988586"
     },
     "user_tz": 300
    },
    "id": "h2gQk06wr-2U"
   },
   "outputs": [],
   "source": [
    "# 4 observaciones, 3 variables\n",
    "X = np.array([\n",
    "      [1,0,1],\n",
    "      [1,2,3],\n",
    "      [4,5,6],\n",
    "      [6,7,8],\n",
    "])"
   ]
  },
  {
   "cell_type": "markdown",
   "metadata": {
    "id": "83lprDqdsXS9"
   },
   "source": [
    "### Forward-propagation(inferencia, prediccion, o estimacion)\n"
   ]
  },
  {
   "cell_type": "code",
   "execution_count": 6,
   "metadata": {
    "executionInfo": {
     "elapsed": 215,
     "status": "ok",
     "timestamp": 1628130087816,
     "user": {
      "displayName": "Luis Fernando Leal Hernandez",
      "photoUrl": "",
      "userId": "08643725771405988586"
     },
     "user_tz": 300
    },
    "id": "6YQQehtksWIh"
   },
   "outputs": [],
   "source": [
    "H = np.matmul(X,Wc1)"
   ]
  },
  {
   "cell_type": "code",
   "execution_count": 7,
   "metadata": {
    "colab": {
     "base_uri": "https://localhost:8080/",
     "height": 34
    },
    "executionInfo": {
     "elapsed": 1425,
     "status": "ok",
     "timestamp": 1597110861899,
     "user": {
      "displayName": "Luis Fernando Leal Hernandez",
      "photoUrl": "",
      "userId": "08643725771405988586"
     },
     "user_tz": 300
    },
    "id": "Yk6tcrDVspc5",
    "outputId": "d9fda99e-f53c-4c2a-8a46-3cedb412b518"
   },
   "outputs": [
    {
     "data": {
      "text/plain": [
       "(4, 3)"
      ]
     },
     "execution_count": 7,
     "metadata": {},
     "output_type": "execute_result"
    }
   ],
   "source": [
    "X.shape"
   ]
  },
  {
   "cell_type": "code",
   "execution_count": 8,
   "metadata": {
    "colab": {
     "base_uri": "https://localhost:8080/"
    },
    "executionInfo": {
     "elapsed": 205,
     "status": "ok",
     "timestamp": 1628130205421,
     "user": {
      "displayName": "Luis Fernando Leal Hernandez",
      "photoUrl": "",
      "userId": "08643725771405988586"
     },
     "user_tz": 300
    },
    "id": "N-N_C7E2ssQQ",
    "outputId": "d25f97f2-b316-47ad-8aaf-d93c63c676e5"
   },
   "outputs": [
    {
     "data": {
      "text/plain": [
       "(3, 3)"
      ]
     },
     "execution_count": 8,
     "metadata": {},
     "output_type": "execute_result"
    }
   ],
   "source": [
    "Wc1.shape"
   ]
  },
  {
   "cell_type": "code",
   "execution_count": 9,
   "metadata": {
    "colab": {
     "base_uri": "https://localhost:8080/",
     "height": 34
    },
    "executionInfo": {
     "elapsed": 1360,
     "status": "ok",
     "timestamp": 1597110861901,
     "user": {
      "displayName": "Luis Fernando Leal Hernandez",
      "photoUrl": "",
      "userId": "08643725771405988586"
     },
     "user_tz": 300
    },
    "id": "JNLhgYB6styV",
    "outputId": "e4562f99-35bf-4ee9-e6e2-0ef0dbfcbdd1"
   },
   "outputs": [
    {
     "data": {
      "text/plain": [
       "(4, 3)"
      ]
     },
     "execution_count": 9,
     "metadata": {},
     "output_type": "execute_result"
    }
   ],
   "source": [
    "H.shape"
   ]
  },
  {
   "cell_type": "code",
   "execution_count": 10,
   "metadata": {
    "colab": {
     "base_uri": "https://localhost:8080/"
    },
    "executionInfo": {
     "elapsed": 166,
     "status": "ok",
     "timestamp": 1628130337114,
     "user": {
      "displayName": "Luis Fernando Leal Hernandez",
      "photoUrl": "",
      "userId": "08643725771405988586"
     },
     "user_tz": 300
    },
    "id": "hl3ppyjaIVgE",
    "outputId": "e16eb1de-464f-4adb-904d-ff64b1e38c0a"
   },
   "outputs": [
    {
     "data": {
      "text/plain": [
       "array([[ 1. ,  0.9,  0.9],\n",
       "       [ 2.8,  3.1,  3.1],\n",
       "       [ 8.2,  7.3,  7. ],\n",
       "       [11.8, 10.1,  9.6]])"
      ]
     },
     "execution_count": 10,
     "metadata": {},
     "output_type": "execute_result"
    }
   ],
   "source": [
    "H"
   ]
  },
  {
   "cell_type": "code",
   "execution_count": 11,
   "metadata": {
    "executionInfo": {
     "elapsed": 181,
     "status": "ok",
     "timestamp": 1628130255962,
     "user": {
      "displayName": "Luis Fernando Leal Hernandez",
      "photoUrl": "",
      "userId": "08643725771405988586"
     },
     "user_tz": 300
    },
    "id": "K1BwUuoxs1K9"
   },
   "outputs": [],
   "source": [
    "A = sigmoid(H)"
   ]
  },
  {
   "cell_type": "code",
   "execution_count": 12,
   "metadata": {
    "colab": {
     "base_uri": "https://localhost:8080/"
    },
    "executionInfo": {
     "elapsed": 160,
     "status": "ok",
     "timestamp": 1628130258888,
     "user": {
      "displayName": "Luis Fernando Leal Hernandez",
      "photoUrl": "",
      "userId": "08643725771405988586"
     },
     "user_tz": 300
    },
    "id": "-JrD3ICAtLfY",
    "outputId": "478c572d-aa78-4b95-c315-f88a2b11dbab"
   },
   "outputs": [
    {
     "data": {
      "text/plain": [
       "array([[0.73105858, 0.7109495 , 0.7109495 ],\n",
       "       [0.94267582, 0.95689275, 0.95689275],\n",
       "       [0.99972542, 0.99932492, 0.99908895],\n",
       "       [0.9999925 , 0.99995892, 0.99993228]])"
      ]
     },
     "execution_count": 12,
     "metadata": {},
     "output_type": "execute_result"
    }
   ],
   "source": [
    "A"
   ]
  },
  {
   "cell_type": "code",
   "execution_count": 13,
   "metadata": {
    "executionInfo": {
     "elapsed": 181,
     "status": "ok",
     "timestamp": 1628130698314,
     "user": {
      "displayName": "Luis Fernando Leal Hernandez",
      "photoUrl": "",
      "userId": "08643725771405988586"
     },
     "user_tz": 300
    },
    "id": "Rhk8mrKutMYa"
   },
   "outputs": [],
   "source": [
    "y_aprox = sigmoid(np.matmul(\n",
    "    A,Wc2\n",
    "))"
   ]
  },
  {
   "cell_type": "code",
   "execution_count": 14,
   "metadata": {
    "colab": {
     "base_uri": "https://localhost:8080/"
    },
    "executionInfo": {
     "elapsed": 180,
     "status": "ok",
     "timestamp": 1628130701676,
     "user": {
      "displayName": "Luis Fernando Leal Hernandez",
      "photoUrl": "",
      "userId": "08643725771405988586"
     },
     "user_tz": 300
    },
    "id": "RlJksB9Bt2kU",
    "outputId": "b983df36-b4b7-463a-ae17-e0eaa1cd574d"
   },
   "outputs": [
    {
     "data": {
      "text/plain": [
       "array([0.77112013, 0.83513309, 0.84537273, 0.8455238 ])"
      ]
     },
     "execution_count": 14,
     "metadata": {},
     "output_type": "execute_result"
    }
   ],
   "source": [
    "y_aprox"
   ]
  },
  {
   "cell_type": "code",
   "execution_count": 15,
   "metadata": {
    "executionInfo": {
     "elapsed": 167,
     "status": "ok",
     "timestamp": 1628130761168,
     "user": {
      "displayName": "Luis Fernando Leal Hernandez",
      "photoUrl": "",
      "userId": "08643725771405988586"
     },
     "user_tz": 300
    },
    "id": "xi3gkqIyugog"
   },
   "outputs": [],
   "source": [
    "def g(X):\n",
    "  return sigmoid(np.matmul(X,Wc1))"
   ]
  },
  {
   "cell_type": "code",
   "execution_count": 16,
   "metadata": {
    "executionInfo": {
     "elapsed": 192,
     "status": "ok",
     "timestamp": 1628130762244,
     "user": {
      "displayName": "Luis Fernando Leal Hernandez",
      "photoUrl": "",
      "userId": "08643725771405988586"
     },
     "user_tz": 300
    },
    "id": "bXoXpxdUuM44"
   },
   "outputs": [],
   "source": [
    "def f(g):\n",
    "  return sigmoid(np.matmul(g,Wc2))"
   ]
  },
  {
   "cell_type": "code",
   "execution_count": 17,
   "metadata": {
    "executionInfo": {
     "elapsed": 186,
     "status": "ok",
     "timestamp": 1628130777554,
     "user": {
      "displayName": "Luis Fernando Leal Hernandez",
      "photoUrl": "",
      "userId": "08643725771405988586"
     },
     "user_tz": 300
    },
    "id": "D3XYAyaWt4Dq"
   },
   "outputs": [],
   "source": [
    "y_aprox = f(g(X))"
   ]
  },
  {
   "cell_type": "code",
   "execution_count": 18,
   "metadata": {
    "colab": {
     "base_uri": "https://localhost:8080/"
    },
    "executionInfo": {
     "elapsed": 168,
     "status": "ok",
     "timestamp": 1628130778673,
     "user": {
      "displayName": "Luis Fernando Leal Hernandez",
      "photoUrl": "",
      "userId": "08643725771405988586"
     },
     "user_tz": 300
    },
    "id": "VLV6mCnXu0Uq",
    "outputId": "18e1c813-2769-48a1-aac0-381e0f20b55d"
   },
   "outputs": [
    {
     "data": {
      "text/plain": [
       "array([0.77112013, 0.83513309, 0.84537273, 0.8455238 ])"
      ]
     },
     "execution_count": 18,
     "metadata": {},
     "output_type": "execute_result"
    }
   ],
   "source": [
    "y_aprox"
   ]
  },
  {
   "cell_type": "markdown",
   "metadata": {
    "id": "ET5Q69rqTRqN"
   },
   "source": [
    "#### Orientado a objetos"
   ]
  },
  {
   "cell_type": "code",
   "execution_count": 19,
   "metadata": {
    "executionInfo": {
     "elapsed": 178,
     "status": "ok",
     "timestamp": 1628130817445,
     "user": {
      "displayName": "Luis Fernando Leal Hernandez",
      "photoUrl": "",
      "userId": "08643725771405988586"
     },
     "user_tz": 300
    },
    "id": "YQoIIfoDu19e"
   },
   "outputs": [],
   "source": [
    "class RedNeuronal:\n",
    "  def __init__(self):\n",
    "    self.Wc1 = np.array([\n",
    "       [0.9,0.3,0.2],\n",
    "       [0.8,0.5,0.4],\n",
    "       [0.1,0.6,0.7]\n",
    "    ])\n",
    "\n",
    "    self. Wc2  = np.array([0.3,0.5,0.9])\n",
    "\n",
    "  def forward_propagation(self,X):\n",
    "    A = sigmoid(np.matmul(X,self.Wc1))\n",
    "    y_aprox = sigmoid(np.matmul(A,self.Wc2))\n",
    "\n",
    "    return y_aprox"
   ]
  },
  {
   "cell_type": "code",
   "execution_count": 20,
   "metadata": {
    "colab": {
     "base_uri": "https://localhost:8080/",
     "height": 299
    },
    "executionInfo": {
     "elapsed": 221,
     "status": "error",
     "timestamp": 1628130818547,
     "user": {
      "displayName": "Luis Fernando Leal Hernandez",
      "photoUrl": "",
      "userId": "08643725771405988586"
     },
     "user_tz": 300
    },
    "id": "S9QeAwizUOQ1",
    "outputId": "6b7f5d03-3c46-43db-fdc6-696a34a61ee7"
   },
   "outputs": [
    {
     "data": {
      "text/plain": [
       "array([0.77112013, 0.83513309, 0.84537273, 0.8455238 ])"
      ]
     },
     "execution_count": 20,
     "metadata": {},
     "output_type": "execute_result"
    }
   ],
   "source": [
    "red = RedNeuronal()\n",
    "red.forward_propagation(X)"
   ]
  },
  {
   "cell_type": "markdown",
   "metadata": {
    "id": "zzvKRkK8EQBI"
   },
   "source": [
    "<img src=\"https://i.imgur.com/IDFRq5a.png\">"
   ]
  },
  {
   "cell_type": "markdown",
   "metadata": {
    "id": "mOthS-Y8SxaV"
   },
   "source": [
    "[0.73105858 0.78583498 0.68997448]"
   ]
  },
  {
   "cell_type": "code",
   "execution_count": null,
   "metadata": {
    "id": "EbyD6o9xSw8A"
   },
   "outputs": [],
   "source": []
  },
  {
   "cell_type": "code",
   "execution_count": 21,
   "metadata": {
    "id": "JqwT9ScPUnTc"
   },
   "outputs": [],
   "source": [
    "class RedNeuronal:\n",
    "  def __init__(self):\n",
    "    # 1 fila por neurona , 1 columna por variable de entrada\n",
    "    self.Wc1 = np.array([\n",
    "        [0.8,0.2],\n",
    "        [0.4,0.9],\n",
    "        [0.3,0.5]    \n",
    "    ])\n",
    "\n",
    "    # 1 elemento para cada neurona intermedia\n",
    "    self. Wc2  = np.array([0.3,0.5,0.9])\n",
    "\n",
    "  def forward_propagation(self,X):\n",
    "    print(X.shape)\n",
    "    print(self.Wc1.T.shape)\n",
    "    A = sigmoid(np.matmul(X,self.Wc1.T)) # 1 fila por observacion, 1 columna por representacion intermedia [4,3]\n",
    "    print(A)\n",
    "    print(A.shape)\n",
    "    y_aprox = sigmoid(np.matmul(A,self.Wc2)) # 1 fila por observacion,  1 unica salida [4,1]\n",
    "    print(y_aprox.shape)\n",
    "    return y_aprox"
   ]
  },
  {
   "cell_type": "code",
   "execution_count": 22,
   "metadata": {
    "id": "ErGGNxXUOmm1"
   },
   "outputs": [],
   "source": [
    "# 4 observaciones, 2 variables\n",
    "X = np.array([\n",
    "      [1,1],\n",
    "      [1,2],\n",
    "      [4,5],\n",
    "      [6,7],\n",
    "])"
   ]
  },
  {
   "cell_type": "code",
   "execution_count": 23,
   "metadata": {
    "colab": {
     "base_uri": "https://localhost:8080/",
     "height": 156
    },
    "executionInfo": {
     "elapsed": 921,
     "status": "ok",
     "timestamp": 1597112076325,
     "user": {
      "displayName": "Luis Fernando Leal Hernandez",
      "photoUrl": "",
      "userId": "08643725771405988586"
     },
     "user_tz": 300
    },
    "id": "EJ8aX9rtP8UL",
    "outputId": "d0e4c0e0-fa51-423c-c153-44005f8c743c"
   },
   "outputs": [
    {
     "name": "stdout",
     "output_type": "stream",
     "text": [
      "(4, 2)\n",
      "(2, 3)\n",
      "[[0.73105858 0.78583498 0.68997448]\n",
      " [0.76852478 0.90024951 0.78583498]\n",
      " [0.98522597 0.99776215 0.97587298]\n",
      " [0.99797468 0.99983344 0.9950332 ]]\n",
      "(4, 3)\n",
      "(4,)\n"
     ]
    }
   ],
   "source": [
    "red = RedNeuronal()\n",
    "y_aprox = red.forward_propagation(X)"
   ]
  },
  {
   "cell_type": "code",
   "execution_count": 24,
   "metadata": {
    "colab": {
     "base_uri": "https://localhost:8080/",
     "height": 34
    },
    "executionInfo": {
     "elapsed": 765,
     "status": "ok",
     "timestamp": 1597111984638,
     "user": {
      "displayName": "Luis Fernando Leal Hernandez",
      "photoUrl": "",
      "userId": "08643725771405988586"
     },
     "user_tz": 300
    },
    "id": "bqvVlr8nQG83",
    "outputId": "40b87d92-0b00-4be3-e62a-92d175c44fa4"
   },
   "outputs": [
    {
     "data": {
      "text/plain": [
       "array([0.77438027, 0.80026216, 0.84194007, 0.84485948])"
      ]
     },
     "execution_count": 24,
     "metadata": {},
     "output_type": "execute_result"
    }
   ],
   "source": [
    "y_aprox"
   ]
  },
  {
   "cell_type": "markdown",
   "metadata": {
    "id": "AWBZdfJRSAvT"
   },
   "source": [
    "<img src=\"Diagrama3.png\">"
   ]
  },
  {
   "cell_type": "markdown",
   "metadata": {},
   "source": [
    "<b>Solución orientada a objetos</b>"
   ]
  },
  {
   "cell_type": "code",
   "execution_count": 74,
   "metadata": {},
   "outputs": [],
   "source": [
    "class RedNeuronal:\n",
    "  def __init__(self):\n",
    "    self.Bc1 = np.array([-10, 30])\n",
    "    self.Wc1 = np.array([\n",
    "       [20, -20],\n",
    "       [20, -20]\n",
    "    ])\n",
    "    \n",
    "    self.Bc2 = np.array([-30])\n",
    "    self.Wc2  = np.array([20, 20])\n",
    "  \n",
    "  def op_and(self, H):\n",
    "    return H[:,0]/H[:,1] > 0\n",
    "\n",
    "  def forward_propagation(self,X):\n",
    "    H = np.matmul(X,self.Wc1) + self.Bc1\n",
    "    y_aprox = np.matmul(H,self.Wc2) + self.Bc2\n",
    "    \n",
    "    return (H,y_aprox)"
   ]
  },
  {
   "cell_type": "markdown",
   "metadata": {},
   "source": [
    "<img src=\"xor.png\">"
   ]
  },
  {
   "cell_type": "code",
   "execution_count": 28,
   "metadata": {},
   "outputs": [],
   "source": [
    "X = np.array([\n",
    "      [0,0],\n",
    "      [0,1],\n",
    "      [1,0],\n",
    "      [1,1],\n",
    "])"
   ]
  },
  {
   "cell_type": "code",
   "execution_count": 75,
   "metadata": {},
   "outputs": [],
   "source": [
    "red = RedNeuronal()\n",
    "(H,y_aprox) = red.forward_propagation(X)"
   ]
  },
  {
   "cell_type": "markdown",
   "metadata": {},
   "source": [
    "<b>Salida intermedia H = [h1,h2]</b>"
   ]
  },
  {
   "cell_type": "code",
   "execution_count": 71,
   "metadata": {},
   "outputs": [
    {
     "data": {
      "text/plain": [
       "array([[-10,  30],\n",
       "       [ 10,  10],\n",
       "       [ 10,  10],\n",
       "       [ 30, -10]])"
      ]
     },
     "execution_count": 71,
     "metadata": {},
     "output_type": "execute_result"
    }
   ],
   "source": [
    "#Vector H\n",
    "H"
   ]
  },
  {
   "cell_type": "markdown",
   "metadata": {},
   "source": [
    "<b>Resultado de la red neuronal</b>"
   ]
  },
  {
   "cell_type": "code",
   "execution_count": 72,
   "metadata": {},
   "outputs": [
    {
     "data": {
      "text/plain": [
       "array([370, 370, 370, 370])"
      ]
     },
     "execution_count": 72,
     "metadata": {},
     "output_type": "execute_result"
    }
   ],
   "source": [
    "#Y hat\n",
    "y_aprox"
   ]
  },
  {
   "cell_type": "markdown",
   "metadata": {},
   "source": [
    "<b>Graficar cada punto de la representación intermedia(scatter)</b>"
   ]
  },
  {
   "cell_type": "code",
   "execution_count": 111,
   "metadata": {},
   "outputs": [
    {
     "data": {
      "image/png": "[encoded data removed]",
      "text/plain": [
       "<Figure size 576x288 with 1 Axes>"
      ]
     },
     "metadata": {
      "needs_background": "light"
     },
     "output_type": "display_data"
    }
   ],
   "source": [
    "import matplotlib.pyplot as plt\n",
    "plt.scatter(H[:,0], H[:,1], c=[0,1,1,0], label='xor')\n",
    "plt.ylim(-20,45)\n",
    "plt.xlim(-20,45)\n",
    "plt.legend()\n",
    "plt.show()"
   ]
  },
  {
   "cell_type": "markdown",
   "metadata": {},
   "source": [
    "<b>Análisis del resultado intermedio, conclusión y opiniones</b>\n",
    "\n",
    "Los pesos de la capa 2 de la neurona resultan todos en 370 con los valores de la tabla de xor:"
   ]
  },
  {
   "cell_type": "code",
   "execution_count": 113,
   "metadata": {},
   "outputs": [
    {
     "data": {
      "text/plain": [
       "array([370, 370, 370, 370])"
      ]
     },
     "execution_count": 113,
     "metadata": {},
     "output_type": "execute_result"
    }
   ],
   "source": [
    "y_aprox"
   ]
  },
  {
   "cell_type": "markdown",
   "metadata": {},
   "source": [
    "Según los resultados, podemos ver que el resultado debe ser True o 1 cuando x1 y x2 son diferentes (puntos amarillo en la grafica), para esto es posible implementar la función \"and\" y retornar 1 si es mayor a 0:"
   ]
  },
  {
   "cell_type": "code",
   "execution_count": 76,
   "metadata": {},
   "outputs": [
    {
     "data": {
      "text/plain": [
       "array([False,  True,  True, False])"
      ]
     },
     "execution_count": 76,
     "metadata": {},
     "output_type": "execute_result"
    }
   ],
   "source": [
    "red.op_and(H)"
   ]
  },
  {
   "cell_type": "markdown",
   "metadata": {},
   "source": [
    "Es posible utilizar un algoritmo de clusterización, pero la solución más simple dado que conocemos el objetivo de la neurona es utilizar la función \"and\" con el vector H."
   ]
  }
 ],
 "metadata": {
  "colab": {
   "authorship_tag": "ABX9TyM4mu7/uuh9fHS0M6siTuFJ",
   "collapsed_sections": [],
   "name": "forward_propagation_numpy.ipynb",
   "provenance": []
  },
  "kernelspec": {
   "display_name": "Python 3 (ipykernel)",
   "language": "python",
   "name": "python3"
  },
  "language_info": {
   "codemirror_mode": {
    "name": "ipython",
    "version": 3
   },
   "file_extension": ".py",
   "mimetype": "text/x-python",
   "name": "python",
   "nbconvert_exporter": "python",
   "pygments_lexer": "ipython3",
   "version": "3.9.12"
  }
 },
 "nbformat": 4,
 "nbformat_minor": 1
}
